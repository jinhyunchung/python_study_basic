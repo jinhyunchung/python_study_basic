{
 "cells": [
  {
   "cell_type": "code",
   "execution_count": null,
   "id": "37161fa5",
   "metadata": {},
   "outputs": [
    {
     "ename": "SyntaxError",
     "evalue": "invalid syntax (3308203321.py, line 2)",
     "output_type": "error",
     "traceback": [
      "  \u001b[36mCell\u001b[39m\u001b[36m \u001b[39m\u001b[32mIn[1]\u001b[39m\u001b[32m, line 2\u001b[39m\n\u001b[31m    \u001b[39m\u001b[31mdictionary {\u001b[39m\n               ^\n\u001b[31mSyntaxError\u001b[39m\u001b[31m:\u001b[39m invalid syntax\n"
     ]
    }
   ],
   "source": [
    "# 딕셔너리 선언\n",
    "dictionary {\n",
    "  \"name\": \"7D 건조 망고\",\n",
    "  \"type\": \"당절임\",\n",
    "  \"ingradient\": [\"망고\", \"설탕\", \"메타중아항산나트륨\", \"처자황색소\"],\n",
    "  \"origin\": \"필리핀\" \n",
    "}\n",
    "\n",
    "# 출 력\n",
    "# 값을 변경\n",
    "dictionary[\"name\"] = \"8D 건조 망고\"\n",
    "print(\"name:\", dictionary[\"name\"])\n"
   ]
  },
  {
   "cell_type": "code",
   "execution_count": null,
   "id": "4fa5f6fa",
   "metadata": {},
   "outputs": [],
   "source": [
    "# 값을 변경\n",
    "dictionary[\"name\"] = \"8D 건조 망고\"\n",
    "print(\"name:\", dictionary[\"name\"])\n"
   ]
  }
 ],
 "metadata": {
  "kernelspec": {
   "display_name": "Python 3",
   "language": "python",
   "name": "python3"
  },
  "language_info": {
   "codemirror_mode": {
    "name": "ipython",
    "version": 3
   },
   "file_extension": ".py",
   "mimetype": "text/x-python",
   "name": "python",
   "nbconvert_exporter": "python",
   "pygments_lexer": "ipython3",
   "version": "3.11.9"
  }
 },
 "nbformat": 4,
 "nbformat_minor": 5
}
