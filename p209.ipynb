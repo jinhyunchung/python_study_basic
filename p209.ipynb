{
 "cells": [
  {
   "cell_type": "code",
   "execution_count": 9,
   "id": "9ab558b2",
   "metadata": {},
   "outputs": [
    {
     "name": "stdout",
     "output_type": "stream",
     "text": [
      "273\n",
      "32\n",
      "183\n",
      "57\n",
      "52\n"
     ]
    }
   ],
   "source": [
    "#리스트를 선언합니다\n",
    "list = [273, 32, 183, 57, 52]\n",
    "\n",
    "for element in list:\n",
    "  print(element)"
   ]
  },
  {
   "cell_type": "code",
   "execution_count": 6,
   "id": "d0c4104f",
   "metadata": {},
   "outputs": [
    {
     "ename": "SyntaxError",
     "evalue": "expected ':' (29087064.py, line 1)",
     "output_type": "error",
     "traceback": [
      "  \u001b[36mCell\u001b[39m\u001b[36m \u001b[39m\u001b[32mIn[6]\u001b[39m\u001b[32m, line 1\u001b[39m\n\u001b[31m    \u001b[39m\u001b[31mfor character in \"\"\u001b[39m\n                       ^\n\u001b[31mSyntaxError\u001b[39m\u001b[31m:\u001b[39m expected ':'\n"
     ]
    }
   ],
   "source": [
    "for character in \"\""
   ]
  },
  {
   "cell_type": "code",
   "execution_count": 8,
   "id": "0e117795",
   "metadata": {},
   "outputs": [
    {
     "name": "stdout",
     "output_type": "stream",
     "text": [
      "[1, 2, 3]\n",
      "[4, 5, 6, 7]\n",
      "[8, 9]\n"
     ]
    }
   ],
   "source": [
    "list_of_list = [\n",
    "  [1, 2, 3],\n",
    "  [4, 5, 6, 7],\n",
    "  [8, 9]\n",
    "]\n",
    "\n",
    "for element in list_of_list:\n",
    "    print(element)"
   ]
  },
  {
   "cell_type": "code",
   "execution_count": 11,
   "id": "11986c9b",
   "metadata": {},
   "outputs": [
    {
     "name": "stdout",
     "output_type": "stream",
     "text": [
      "1 av\n",
      "2 av\n",
      "3 av\n",
      "4 av\n",
      "5 av\n"
     ]
    }
   ],
   "source": [
    "for i in range(1, 6):\n",
    "  print(i, \"av\")"
   ]
  },
  {
   "cell_type": "code",
   "execution_count": null,
   "id": "3bc314fa",
   "metadata": {},
   "outputs": [],
   "source": []
  },
  {
   "cell_type": "code",
   "execution_count": null,
   "id": "4ebc3aa7",
   "metadata": {},
   "outputs": [],
   "source": []
  },
  {
   "cell_type": "markdown",
   "id": "b58f4e5f",
   "metadata": {},
   "source": []
  },
  {
   "cell_type": "code",
   "execution_count": null,
   "id": "862ed7e5",
   "metadata": {},
   "outputs": [],
   "source": []
  },
  {
   "cell_type": "code",
   "execution_count": null,
   "id": "315bebe3",
   "metadata": {},
   "outputs": [],
   "source": []
  }
 ],
 "metadata": {
  "kernelspec": {
   "display_name": "Python 3",
   "language": "python",
   "name": "python3"
  },
  "language_info": {
   "codemirror_mode": {
    "name": "ipython",
    "version": 3
   },
   "file_extension": ".py",
   "mimetype": "text/x-python",
   "name": "python",
   "nbconvert_exporter": "python",
   "pygments_lexer": "ipython3",
   "version": "3.11.9"
  }
 },
 "nbformat": 4,
 "nbformat_minor": 5
}
