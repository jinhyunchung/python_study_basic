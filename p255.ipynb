{
 "cells": [
  {
   "cell_type": "code",
   "execution_count": 1,
   "id": "ed539f86",
   "metadata": {},
   "outputs": [
    {
     "name": "stdout",
     "output_type": "stream",
     "text": [
      "값 None\n",
      "존재하지 않는 키에 접근 했었습니다\n"
     ]
    }
   ],
   "source": [
    "#딕셔너릴 선언\n",
    "dictionary ={\n",
    "  \"name\": \"7D 건조 망고\",\n",
    "  \"type\": \"당절임\",\n",
    "  \"ingredient\": [\"망고\", \"설탕\", \"메타종아황산나트륨\", \"치자황생소\"],\n",
    "  \"origin\": \"필리핀\"\n",
    "  }\n",
    "\n",
    "# 존재하지 않는 키에 접근하기\n",
    "value = dictionary.get(\"존재하지 않는 키\")\n",
    "print(\"값\", value)\n",
    "\n",
    "# none 확인 방법\n",
    "if value == None:\n",
    "  print(\"존재하지 않는 키에 접근 했었습니다\")"
   ]
  }
 ],
 "metadata": {
  "kernelspec": {
   "display_name": "Python 3",
   "language": "python",
   "name": "python3"
  },
  "language_info": {
   "codemirror_mode": {
    "name": "ipython",
    "version": 3
   },
   "file_extension": ".py",
   "mimetype": "text/x-python",
   "name": "python",
   "nbconvert_exporter": "python",
   "pygments_lexer": "ipython3",
   "version": "3.11.9"
  }
 },
 "nbformat": 4,
 "nbformat_minor": 5
}
